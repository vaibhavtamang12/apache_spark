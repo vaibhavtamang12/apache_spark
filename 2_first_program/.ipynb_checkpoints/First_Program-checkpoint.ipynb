{
 "cells": [
  {
   "cell_type": "code",
   "execution_count": 1,
   "id": "b59fcb99-0cf7-4e8e-a01d-e0e2cc28bea3",
   "metadata": {},
   "outputs": [],
   "source": [
    "#Importing the packages\n",
    "from pyspark.sql import SparkSession\n",
    "from pyspark.sql.types import StructType, StructField, IntegerType, StringType\n",
    "import pyspark.sql.functions as func"
   ]
  },
  {
   "cell_type": "code",
   "execution_count": 2,
   "id": "52fea2e2-224f-4015-b414-ba0211335322",
   "metadata": {},
   "outputs": [
    {
     "name": "stderr",
     "output_type": "stream",
     "text": [
      "25/04/16 10:37:49 WARN Utils: Your hostname, ace resolves to a loopback address: 127.0.1.1; using 10.34.45.137 instead (on interface wlp1s0)\n",
      "25/04/16 10:37:49 WARN Utils: Set SPARK_LOCAL_IP if you need to bind to another address\n",
      "Setting default log level to \"WARN\".\n",
      "To adjust logging level use sc.setLogLevel(newLevel). For SparkR, use setLogLevel(newLevel).\n",
      "25/04/16 10:37:50 WARN NativeCodeLoader: Unable to load native-hadoop library for your platform... using builtin-java classes where applicable\n",
      "25/04/16 10:38:05 WARN GarbageCollectionMetrics: To enable non-built-in garbage collector(s) List(G1 Concurrent GC), users should configure it(them) to spark.eventLog.gcMetrics.youngGenerationGarbageCollectors or spark.eventLog.gcMetrics.oldGenerationGarbageCollectors\n"
     ]
    }
   ],
   "source": [
    "#Creating the SparkSession\n",
    "spark = SparkSession.builder.appName(\"FirstApp\").getOrCreate()"
   ]
  },
  {
   "cell_type": "code",
   "execution_count": 3,
   "id": "a44136bf-28d7-4412-a67d-d27116cba990",
   "metadata": {},
   "outputs": [],
   "source": [
    "#Defining schema for your DataFrame\n",
    "myschema = StructType([\\\n",
    "                       StructField(\"userID\", IntegerType(), True),\n",
    "                       StructField(\"name\", StringType(), True),\n",
    "                       StructField(\"age\",IntegerType(), True),\n",
    "                       StructField(\"friends\",IntegerType(), True),\n",
    "                        ])"
   ]
  },
  {
   "cell_type": "code",
   "execution_count": 5,
   "id": "028428d0-07f6-4d10-959b-2846d87b7816",
   "metadata": {},
   "outputs": [],
   "source": [
    "#Creating DataFrame on a CSV file\n",
    "people = spark.read.format(\"csv\")\\\n",
    "    .schema(myschema)\\\n",
    "    .option(\"path\",\"fakefriends.csv\")\\\n",
    "    .load()"
   ]
  },
  {
   "cell_type": "code",
   "execution_count": 6,
   "id": "4570a37e-a467-42a5-b255-580cc3cf5eb9",
   "metadata": {},
   "outputs": [],
   "source": [
    "#Performing all thetransformations\n",
    "output = people.select(people.userID,people.name\\\n",
    "                       ,people.age,people.friends)\\\n",
    "         .where(people.age < 30).withColumn('insert_ts', func.current_timestamp())\\\n",
    "         .orderBy(people.userID)"
   ]
  },
  {
   "cell_type": "code",
   "execution_count": 7,
   "id": "9db3f500-a94b-4013-90aa-e2e91126abf5",
   "metadata": {},
   "outputs": [
    {
     "name": "stderr",
     "output_type": "stream",
     "text": [
      "                                                                                "
     ]
    },
    {
     "data": {
      "text/plain": [
       "112"
      ]
     },
     "execution_count": 7,
     "metadata": {},
     "output_type": "execute_result"
    }
   ],
   "source": [
    "#taking the count of o/p DataFrame\n",
    "output.count()"
   ]
  },
  {
   "cell_type": "code",
   "execution_count": 8,
   "id": "c8e42b46-04a7-4def-bf61-7db9ba55fb86",
   "metadata": {},
   "outputs": [],
   "source": [
    "#Creating a Temp View\n",
    "output.createOrReplaceTempView(\"peoples\")\n"
   ]
  },
  {
   "cell_type": "code",
   "execution_count": 9,
   "id": "12e7eacb-6f0f-43c1-a50d-e51ebab21047",
   "metadata": {},
   "outputs": [
    {
     "name": "stdout",
     "output_type": "stream",
     "text": [
      "+--------+---+-------+--------------------+\n",
      "|    name|age|friends|           insert_ts|\n",
      "+--------+---+-------+--------------------+\n",
      "|Jean-Luc| 26|      2|2025-04-16 10:41:...|\n",
      "|    Hugh| 27|    181|2025-04-16 10:41:...|\n",
      "|  Weyoun| 22|    323|2025-04-16 10:41:...|\n",
      "|   Miles| 19|    268|2025-04-16 10:41:...|\n",
      "|  Julian| 25|      1|2025-04-16 10:41:...|\n",
      "|     Ben| 21|    445|2025-04-16 10:41:...|\n",
      "|  Julian| 22|    100|2025-04-16 10:41:...|\n",
      "|     Nog| 26|    281|2025-04-16 10:41:...|\n",
      "| Beverly| 27|    305|2025-04-16 10:41:...|\n",
      "|    Morn| 25|     96|2025-04-16 10:41:...|\n",
      "|   Brunt| 24|     49|2025-04-16 10:41:...|\n",
      "|     Nog| 20|      1|2025-04-16 10:41:...|\n",
      "| Beverly| 19|    269|2025-04-16 10:41:...|\n",
      "|   Brunt| 19|      5|2025-04-16 10:41:...|\n",
      "|  Geordi| 20|    100|2025-04-16 10:41:...|\n",
      "|  Geordi| 21|    477|2025-04-16 10:41:...|\n",
      "|  Kasidy| 22|    179|2025-04-16 10:41:...|\n",
      "|   Brunt| 20|    384|2025-04-16 10:41:...|\n",
      "|     Ben| 28|    311|2025-04-16 10:41:...|\n",
      "|    Worf| 24|    492|2025-04-16 10:41:...|\n",
      "+--------+---+-------+--------------------+\n",
      "only showing top 20 rows\n",
      "\n"
     ]
    }
   ],
   "source": [
    "#Running a simple Spark SQL query\n",
    "spark.sql(\"select name,age,friends,insert_ts from peoples\").show()"
   ]
  }
 ],
 "metadata": {
  "kernelspec": {
   "display_name": "Python 3 (ipykernel)",
   "language": "python",
   "name": "python3"
  },
  "language_info": {
   "codemirror_mode": {
    "name": "ipython",
    "version": 3
   },
   "file_extension": ".py",
   "mimetype": "text/x-python",
   "name": "python",
   "nbconvert_exporter": "python",
   "pygments_lexer": "ipython3",
   "version": "3.12.3"
  }
 },
 "nbformat": 4,
 "nbformat_minor": 5
}
